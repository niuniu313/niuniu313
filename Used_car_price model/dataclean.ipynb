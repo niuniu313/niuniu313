{
 "cells": [
  {
   "cell_type": "code",
   "execution_count": 1,
   "id": "4829628a",
   "metadata": {},
   "outputs": [],
   "source": [
    "import pandas as pd\n",
    "from sklearn.preprocessing import LabelEncoder"
   ]
  },
  {
   "cell_type": "code",
   "execution_count": 2,
   "id": "059b9e02",
   "metadata": {},
   "outputs": [],
   "source": [
    "#读取数据\n",
    "df = pd.read_csv(\"autos.csv\") "
   ]
  },
  {
   "cell_type": "code",
   "execution_count": 3,
   "id": "62e8d085",
   "metadata": {},
   "outputs": [],
   "source": [
    "#保留关键指标\n",
    "df2 = [\n",
    "    'vehicleType', 'yearOfRegistration', 'gearbox', 'powerPS', 'model',\n",
    "    'kilometer', 'monthOfRegistration', 'fuelType', 'brand', 'notRepairedDamage', 'price'\n",
    "]\n",
    "df = df[df2]"
   ]
  },
  {
   "cell_type": "code",
   "execution_count": 5,
   "id": "b4480be3",
   "metadata": {},
   "outputs": [],
   "source": [
    "# 清洗数据：删除异常值和缺失值\n",
    "df = df[df['price'].between(500, 100000)]    # 合理价格范围\n",
    "df = df[df['yearOfRegistration'].between(1990, 2025)]   # 合理日期\n",
    "df = df[df['powerPS'] > 50]   # 去掉马力过小的\n",
    "df = df[df['kilometer'] >1000]  # 去掉公里数过小的\n",
    "df.dropna(subset=df2, inplace=True)"
   ]
  },
  {
   "cell_type": "code",
   "execution_count": 6,
   "id": "09df8b18",
   "metadata": {},
   "outputs": [],
   "source": [
    "# 保留原始字符串列\n",
    "df['gearbox_raw'] = df['gearbox']\n",
    "df['fuelType_raw'] = df['fuelType']\n",
    "df['vehicleType_raw'] = df['vehicleType']\n",
    "df['notRepairedDamage_raw'] = df['notRepairedDamage']\n",
    "\n",
    "# 编码分类变量\n",
    "categorical_cols = ['vehicleType', 'gearbox', 'model', 'fuelType', 'brand', 'notRepairedDamage']\n",
    "label_encoders = {}\n",
    "\n",
    "for col in categorical_cols:\n",
    "    le = LabelEncoder()\n",
    "    df[col] = le.fit_transform(df[col])\n",
    "    label_encoders[col] = le"
   ]
  },
  {
   "cell_type": "code",
   "execution_count": 8,
   "id": "f19c6b07",
   "metadata": {},
   "outputs": [],
   "source": [
    "# 保存清洗和编码后的数据\n",
    "df.to_csv(\"cleaned_car_data.csv\", index=False)"
   ]
  }
 ],
 "metadata": {
  "kernelspec": {
   "display_name": "Python 3",
   "language": "python",
   "name": "python3"
  },
  "language_info": {
   "codemirror_mode": {
    "name": "ipython",
    "version": 3
   },
   "file_extension": ".py",
   "mimetype": "text/x-python",
   "name": "python",
   "nbconvert_exporter": "python",
   "pygments_lexer": "ipython3",
   "version": "3.8.8"
  }
 },
 "nbformat": 4,
 "nbformat_minor": 5
}
